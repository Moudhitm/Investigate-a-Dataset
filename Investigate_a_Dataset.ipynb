{
 "cells": [
  {
   "cell_type": "markdown",
   "metadata": {},
   "source": [
    "\n",
    "\n",
    "# Project: The Attendance of the Appointments \n",
    "\n",
    "## Table of Contents\n",
    "<ul>\n",
    "<li><a href=\"#intro\">Introduction</a></li>\n",
    "<li><a href=\"#wrangling\">Data Wrangling</a></li>\n",
    "<li><a href=\"#eda\">Exploratory Data Analysis</a></li>\n",
    "<li><a href=\"#conclusions\">Conclusions</a></li>\n",
    "</ul>"
   ]
  },
  {
   "cell_type": "markdown",
   "metadata": {},
   "source": [
    "## Introduction \n",
    "This dataset is about 110527 appointments in Brazil with 14 features, and is focused on the question of whether or not patients attende for their appointment.\n",
    "- \"Gender\" 'F' for Female and 'M' for Male.\n",
    "- \"ScheduledDay\" on what day the patient set up their appointment.\n",
    "- \"AppointmentDay\" on what day the patient book the appointment.\n",
    "- \"Neighborhood\" the location of the hospital.\n",
    "- \"Scholarship\" did the patient enrolled in scholarship or not ?\n",
    "\n"
   ]
  },
  {
   "cell_type": "markdown",
   "metadata": {},
   "source": [
    "<a id='intro'></a>\n",
    "\n",
    " \n",
    "\n",
    "\n",
    "## Question for Analysis\n",
    "#### Is the SMS reminder for the appiontment is affect on the attendance ? \n",
    "#### Is the Difference between scheduled day and appointment day affect on Attendance ? \n",
    "\n",
    "We will answer the questions below.."
   ]
  },
  {
   "cell_type": "code",
   "execution_count": null,
   "metadata": {},
   "outputs": [],
   "source": [
    "import pandas as pd\n",
    "import numpy as np\n",
    "import matplotlib.pyplot as plt\n",
    "import seaborn as sns\n",
    "% matplotlib inline"
   ]
  },
  {
   "cell_type": "markdown",
   "metadata": {},
   "source": [
    "<a id='wrangling'></a>\n",
    "## Data Wrangling"
   ]
  },
  {
   "cell_type": "code",
   "execution_count": null,
   "metadata": {},
   "outputs": [],
   "source": [
    "df = pd.read_csv('no_show_appointments.csv')\n",
    "df.head()"
   ]
  },
  {
   "cell_type": "code",
   "execution_count": null,
   "metadata": {},
   "outputs": [],
   "source": [
    "df.shape #the number of rows and columns"
   ]
  },
  {
   "cell_type": "markdown",
   "metadata": {},
   "source": [
    "the number of appointments is 110527 and the number of features is 14"
   ]
  },
  {
   "cell_type": "code",
   "execution_count": null,
   "metadata": {},
   "outputs": [],
   "source": [
    "df.info() "
   ]
  },
  {
   "cell_type": "code",
   "execution_count": null,
   "metadata": {},
   "outputs": [],
   "source": [
    "df.isnull().sum() #check for missing values"
   ]
  },
  {
   "cell_type": "markdown",
   "metadata": {},
   "source": [
    "There is no any missing value"
   ]
  },
  {
   "cell_type": "code",
   "execution_count": null,
   "metadata": {},
   "outputs": [],
   "source": [
    "df.duplicated().sum()"
   ]
  },
  {
   "cell_type": "markdown",
   "metadata": {},
   "source": [
    "there is no duplicated rows here!"
   ]
  },
  {
   "cell_type": "code",
   "execution_count": null,
   "metadata": {},
   "outputs": [],
   "source": [
    "df ['AppointmentID'].duplicated().sum() #the number of duplicated appointment id "
   ]
  },
  {
   "cell_type": "code",
   "execution_count": null,
   "metadata": {},
   "outputs": [],
   "source": [
    "df['PatientId'].duplicated().sum() #the number of patients that have been came more than once"
   ]
  },
  {
   "cell_type": "markdown",
   "metadata": {},
   "source": [
    "There is 48783 patients who's came to the appointment more than once"
   ]
  },
  {
   "cell_type": "code",
   "execution_count": null,
   "metadata": {
    "scrolled": false
   },
   "outputs": [],
   "source": [
    "df.describe()"
   ]
  },
  {
   "cell_type": "markdown",
   "metadata": {},
   "source": [
    "- The most of patients they didn't have any disease \n",
    "- The age mean is 37 \n",
    "- Only 32% of patients received a reminding messege.\n",
    "- The minimum age is -1, so we should delete the row."
   ]
  },
  {
   "cell_type": "code",
   "execution_count": null,
   "metadata": {},
   "outputs": [],
   "source": [
    "mask = df.query('Age==-1') #the row of -1 age\n",
    "mask"
   ]
  },
  {
   "cell_type": "code",
   "execution_count": null,
   "metadata": {},
   "outputs": [],
   "source": [
    "df.dtypes #the types of data"
   ]
  },
  {
   "cell_type": "markdown",
   "metadata": {},
   "source": [
    "### Data cleaning "
   ]
  },
  {
   "cell_type": "code",
   "execution_count": null,
   "metadata": {},
   "outputs": [],
   "source": [
    "df.drop(index=99832 ,inplace=True)"
   ]
  },
  {
   "cell_type": "code",
   "execution_count": null,
   "metadata": {},
   "outputs": [],
   "source": [
    "df.drop_duplicates('PatientId' , inplace=True) #to drop the rows of patients that have been came more than once \n",
    "df.shape"
   ]
  },
  {
   "cell_type": "code",
   "execution_count": null,
   "metadata": {},
   "outputs": [],
   "source": [
    "df.drop(['PatientId', 'AppointmentID' , 'Neighbourhood'], axis = 1, inplace = True) #drop the columns that we don't need\n",
    "df.head()"
   ]
  },
  {
   "cell_type": "code",
   "execution_count": null,
   "metadata": {},
   "outputs": [],
   "source": [
    "df['ScheduledDay'] = pd.to_datetime(df['ScheduledDay']) #change the type of scheduled day column from object to datetime\n",
    "df['AppointmentDay'] = pd.to_datetime(df['AppointmentDay']) #change the type of appointment day column from object to datetime\n",
    "df.dtypes"
   ]
  },
  {
   "cell_type": "code",
   "execution_count": null,
   "metadata": {},
   "outputs": [],
   "source": [
    "df['ScheduledDay'] = pd.to_datetime(df['ScheduledDay']).dt.normalize() #remove the time from scheduled day column\n",
    "df['AppointmentDay'] = pd.to_datetime(df['AppointmentDay']).dt.normalize() #remove the time from appointment day column\n",
    "df.head()"
   ]
  },
  {
   "cell_type": "code",
   "execution_count": null,
   "metadata": {},
   "outputs": [],
   "source": [
    "df.rename(columns = {'No-show':'Attendance'}, inplace = True) #change the column name from no-show to attendance just to be clear"
   ]
  },
  {
   "cell_type": "code",
   "execution_count": null,
   "metadata": {},
   "outputs": [],
   "source": [
    "df = df.copy()\n",
    "df['Attendance'] = df['Attendance'].map({'Yes': False, 'No': True}) #convert attendance column to boolean "
   ]
  },
  {
   "cell_type": "code",
   "execution_count": null,
   "metadata": {},
   "outputs": [],
   "source": [
    "df.info()"
   ]
  },
  {
   "cell_type": "markdown",
   "metadata": {},
   "source": [
    "Attendance column is clear now."
   ]
  },
  {
   "cell_type": "markdown",
   "metadata": {},
   "source": [
    "#### Awesome! The data is clean. \n",
    "We drop the duplicated patient id and the columns that we don't need, then we change some types of data, and rename the dependent column."
   ]
  },
  {
   "cell_type": "markdown",
   "metadata": {},
   "source": [
    "<a id='eda'></a>\n",
    "## Exploratory Data Analysis\n",
    "\n"
   ]
  },
  {
   "cell_type": "code",
   "execution_count": null,
   "metadata": {},
   "outputs": [],
   "source": [
    "df.hist(figsize=(15,8));"
   ]
  },
  {
   "cell_type": "markdown",
   "metadata": {},
   "source": [
    "\n",
    "\n",
    "### Is the SMS reminder for the appiontment is affect on the attendance ?"
   ]
  },
  {
   "cell_type": "code",
   "execution_count": null,
   "metadata": {},
   "outputs": [],
   "source": [
    "df['Attendance'].value_counts() #the number of attende and absente patients"
   ]
  },
  {
   "cell_type": "code",
   "execution_count": null,
   "metadata": {},
   "outputs": [],
   "source": [
    "df.groupby(['Attendance'])['SMS_received'].sum() #the number of attende and absente patients who's received a reminding message"
   ]
  },
  {
   "cell_type": "markdown",
   "metadata": {},
   "source": [
    "only 14760 out of 49653 of atteneded patients they received a reminding message."
   ]
  },
  {
   "cell_type": "code",
   "execution_count": null,
   "metadata": {},
   "outputs": [],
   "source": [
    "df.groupby(['Attendance'])['SMS_received'].mean() #the means of attende and absente patients who's received a reminding message"
   ]
  },
  {
   "cell_type": "code",
   "execution_count": null,
   "metadata": {},
   "outputs": [],
   "source": [
    "df.groupby('Attendance')['SMS_received'].mean().plot( kind = 'bar' );\n",
    "plt.title('The effect of a reminding message on Attendance')\n",
    "plt.xlabel('Attendance')\n",
    "plt.ylabel('Average of Patients');"
   ]
  },
  {
   "cell_type": "markdown",
   "metadata": {},
   "source": [
    "That means only 29% of patients that attende the appointment they received a reminding message, and the others just attende the appointment without a reminding message, and 43% of patients they received a message but didn't came for the appointment.\n",
    "So, from the result above the reminding message does not affect on the attendance."
   ]
  },
  {
   "cell_type": "markdown",
   "metadata": {},
   "source": [
    "### Is the Difference between scheduled day and appointment day affect on Attendance ?"
   ]
  },
  {
   "cell_type": "code",
   "execution_count": null,
   "metadata": {
    "scrolled": true
   },
   "outputs": [],
   "source": [
    "df['Difference'] = df['AppointmentDay'].sub(df['ScheduledDay']).dt.days\n",
    "df.head(10)"
   ]
  },
  {
   "cell_type": "code",
   "execution_count": null,
   "metadata": {},
   "outputs": [],
   "source": [
    "df.groupby(['Difference'])['Attendance'].mean()"
   ]
  },
  {
   "cell_type": "code",
   "execution_count": null,
   "metadata": {
    "scrolled": true
   },
   "outputs": [],
   "source": [
    "df.groupby(['Difference'])['Attendance'].sum().plot(figsize=[16,5]);\n",
    "plt.title('The Effect of Difference between Appointment day & Scheduled day on Attendance')\n",
    "plt.xlabel('Difference')\n",
    "plt.ylabel('Attende Patients');"
   ]
  },
  {
   "cell_type": "markdown",
   "metadata": {},
   "source": [
    "That means a lot of patients who's scheduled the appointment at the same day of the appointment or near from the appointment day they attende. "
   ]
  },
  {
   "cell_type": "markdown",
   "metadata": {},
   "source": [
    "### The Age and Attendance"
   ]
  },
  {
   "cell_type": "code",
   "execution_count": null,
   "metadata": {},
   "outputs": [],
   "source": [
    "attende = df.Attendance == True \n",
    "absente = df.Attendance == False"
   ]
  },
  {
   "cell_type": "code",
   "execution_count": null,
   "metadata": {
    "scrolled": false
   },
   "outputs": [],
   "source": [
    "def Attendance(df,thecolumn,Attende,Absente):\n",
    "    plt.figure(figsize=[15,5]);\n",
    "    df[thecolumn][attende].hist(color='blue',alpha=0.5,label=attende,bins=15)\n",
    "    df[thecolumn][absente].hist(color='red',alpha=0.5,label=absente,bins=15)\n",
    "    plt.legend();\n",
    "    plt.title('The Age and Attendance')\n",
    "    plt.xlabel('Age')\n",
    "    plt.ylabel('Attende Patients');\n",
    "Attendance(df,'Age',attende,absente)"
   ]
  },
  {
   "cell_type": "markdown",
   "metadata": {},
   "source": [
    "from the figure above, the most attended patients their ages ranged from birth to 8."
   ]
  },
  {
   "cell_type": "markdown",
   "metadata": {},
   "source": [
    "# Limitation\n",
    "The patients who attende the appointment more than non-attende\n",
    "# Conclusions\n",
    "The greater the difference between scheduled day and appointment day, the lower the attendance."
   ]
  },
  {
   "cell_type": "code",
   "execution_count": null,
   "metadata": {},
   "outputs": [],
   "source": [
    "from subprocess import call\n",
    "call(['python', '-m', 'nbconvert', 'Investigate_a_Dataset.ipynb'])"
   ]
  }
 ],
 "metadata": {
  "kernelspec": {
   "display_name": "Python 3",
   "language": "python",
   "name": "python3"
  },
  "language_info": {
   "codemirror_mode": {
    "name": "ipython",
    "version": 3
   },
   "file_extension": ".py",
   "mimetype": "text/x-python",
   "name": "python",
   "nbconvert_exporter": "python",
   "pygments_lexer": "ipython3",
   "version": "3.6.3"
  }
 },
 "nbformat": 4,
 "nbformat_minor": 2
}
